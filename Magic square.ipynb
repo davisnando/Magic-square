{
 "cells": [
  {
   "cell_type": "markdown",
   "metadata": {},
   "source": [
    "Class item word gebruikt om een 2de variable op te slaan zo kan ik weten wat x is als de daadwerkelijke value nog niet berekend kan worden."
   ]
  },
  {
   "cell_type": "code",
   "execution_count": 1,
   "metadata": {},
   "outputs": [],
   "source": [
    "import numpy\n",
    "\n",
    "\n",
    "class item:\n",
    "    val = None\n",
    "    x = None\n",
    "\n",
    "    def __init__(self, val=None):\n",
    "        self.val = val\n",
    "\n",
    "\n",
    "matrix = numpy.array(\n",
    "    [[item(), item(1), item(6)], [item(3), item(), item()], [item(), item(), item()]]\n",
    ")\n",
    "\n",
    "master_x = None\n",
    "changes = False"
   ]
  },
  {
   "cell_type": "markdown",
   "metadata": {},
   "source": [
    "Deze functies hieronder zorgt ervoor dat ik de matrix gemakkelijk kan printen"
   ]
  },
  {
   "cell_type": "code",
   "execution_count": 2,
   "metadata": {},
   "outputs": [],
   "source": [
    "\n",
    "def print_matrix():\n",
    "    for row in matrix:\n",
    "        print(row[0].val, row[1].val, row[2].val)\n",
    "\n",
    "\n",
    "def print_matrix_x():\n",
    "    for row in matrix:\n",
    "        print(row[0].x, row[1].x, row[2].x)\n",
    "\n"
   ]
  },
  {
   "cell_type": "markdown",
   "metadata": {},
   "source": [
    "Deze functie checkt hoeveel cellen in de rij nog helemaal niks is ingevuld"
   ]
  },
  {
   "cell_type": "code",
   "execution_count": 3,
   "metadata": {},
   "outputs": [],
   "source": [
    "def check_zeros(col):\n",
    "    count = 0\n",
    "    for item in col:\n",
    "        if item.val == None and item.x == None:\n",
    "            count += 1\n",
    "    return count\n"
   ]
  },
  {
   "cell_type": "markdown",
   "metadata": {},
   "source": [
    "Deze functie heeft een rij van de matrix als input vervolgens loopt hij door de rij heen en checkt of er al een cell al x heeft ingevuld zoja berekend hij van de cel die nog niks is ingevuld de val van uit. Is x nog niet ingevuld van een van de cellen en er zijn 2 waardes bekend dan berekend hij x voor de laatste. \n",
    "\n",
    "https://math.stackexchange.com/questions/2726430/what-method-can-be-used-to-solve-a-magic-square-problem-without-just-guessing Dit heb ik gebruikt als methode"
   ]
  },
  {
   "cell_type": "code",
   "execution_count": 4,
   "metadata": {},
   "outputs": [],
   "source": [
    "\n",
    "def set_columns(col):\n",
    "    global master_x, changes, index_master_x, index_master_y\n",
    "    if check_zeros(col) == 1:\n",
    "        index_empty = 0\n",
    "        total_sum = 0\n",
    "        total_x = None\n",
    "        for index, c in enumerate(col):\n",
    "            if c.val == None and c.x == None:\n",
    "                index_empty = index\n",
    "            else:\n",
    "                if c.val is not None:\n",
    "                    total_sum += c.val\n",
    "                else:\n",
    "                    total_x = c.x\n",
    "        if total_sum > 0:\n",
    "            changes = True\n",
    "            if total_x is not None:\n",
    "                if master_x == total_x:\n",
    "                    col[index_empty].val = total_x - total_sum\n",
    "                else:\n",
    "                    col[index_empty].val = abs(total_x) + master_x - total_sum\n",
    "\n",
    "            else:\n",
    "                if master_x is None:\n",
    "                    col[index_empty].x = total_sum\n",
    "                    master_x = total_sum\n",
    "                else:\n",
    "                    if master_x - total_sum == 10:\n",
    "                        import pdb\n",
    "\n",
    "                        pdb.set_trace\n",
    "                    col[index_empty].x = master_x - total_sum\n",
    "\n"
   ]
  },
  {
   "cell_type": "markdown",
   "metadata": {},
   "source": [
    "Deze functie zoekt naar de rij die alleen maar cellen heeft waar x is ingevuld en dus geen value nog heeft"
   ]
  },
  {
   "cell_type": "code",
   "execution_count": 5,
   "metadata": {},
   "outputs": [],
   "source": [
    "\n",
    "def get_row_only_x():\n",
    "    for index, row in enumerate(matrix):\n",
    "        not_x = False\n",
    "        for col in row:\n",
    "            if col.x is None:\n",
    "                not_x = True\n",
    "        if not_x == False:\n",
    "            return row, index, 0\n",
    "\n",
    "    for index in range(0, 3):\n",
    "        row = matrix[:, index]\n",
    "        not_x = False\n",
    "        for col in row:\n",
    "            if col.x is None:\n",
    "                not_x = True\n",
    "        if not_x == False:\n",
    "            return row, index, 1\n",
    "\n",
    "    row = [matrix[0][0], matrix[1][1], matrix[2][2]]\n",
    "    not_x = False\n",
    "    for col in row:\n",
    "        if col.x is None:\n",
    "            not_x = True\n",
    "    if not_x == False:\n",
    "        return row, 0, 2\n",
    "\n",
    "    row = [matrix[0][2], matrix[1][1], matrix[2][0]]\n",
    "    not_x = False\n",
    "    for col in row:\n",
    "        if col.x is None:\n",
    "            not_x = True\n",
    "    if not_x == False:\n",
    "        return row, 1, 2\n",
    "\n",
    "    return None, None, None\n"
   ]
  },
  {
   "cell_type": "markdown",
   "metadata": {},
   "source": [
    "Dit krijgt de rij met alleen x'en en berekend daar de values van. Op het eind print hij de matrix en is hij klaar"
   ]
  },
  {
   "cell_type": "code",
   "execution_count": 6,
   "metadata": {},
   "outputs": [],
   "source": [
    "\n",
    "def calculate_rest():\n",
    "    x_row, index, ty = get_row_only_x()\n",
    "    # selecting row\n",
    "    row = None\n",
    "    if ty == 2 and index == 0:\n",
    "        row = [matrix[0][2], matrix[1][1], matrix[2][0]]\n",
    "    elif ty == 2 and index == 1:\n",
    "        row = [matrix[0][0], matrix[1][1], matrix[2][2]]\n",
    "    elif ty == 1:\n",
    "        row = matrix[0]\n",
    "    elif ty == 0:\n",
    "        row = matrix[:, 0]\n",
    "    row_x = 0\n",
    "    row_sum = 0\n",
    "\n",
    "    for col in row:\n",
    "        if col.x:\n",
    "            row_x += col.x\n",
    "        else:\n",
    "            row_sum += col.val\n",
    "    x = 0\n",
    "    index = 0\n",
    "    for i, col in enumerate(x_row):\n",
    "        if col.x != row_x and col.x != master_x:\n",
    "            x = col.x\n",
    "        if col.x == master_x:\n",
    "            index = i\n",
    "\n",
    "    val = row_sum + abs(x)\n",
    "\n",
    "    x = val / 2\n",
    "\n",
    "    x_row[index].val = int(x)\n",
    "    total_sum = 0\n",
    "    for val in matrix:\n",
    "        all_true = False\n",
    "        t_sum = 0\n",
    "        for col in val:\n",
    "            if col.val is None:\n",
    "                all_true = True\n",
    "                continue\n",
    "            all_true = False\n",
    "            t_sum += col.val\n",
    "        if not all_true:\n",
    "            total_sum = t_sum\n",
    "            break\n",
    "\n",
    "    for val in matrix:\n",
    "        for col in val:\n",
    "            if col.val is None:\n",
    "                su = 0\n",
    "                for c in val:\n",
    "                    if c.val is not None:\n",
    "                        su += c.val\n",
    "                col.val = total_sum - su\n",
    "    print_matrix()"
   ]
  },
  {
   "cell_type": "markdown",
   "metadata": {},
   "source": [
    "Deze functie hieronder gaat voor elke mogelijkheid om een rij te krijgen door de rij heen en voert de set_columns functie aan. Is er iets veranderd roept hij zichzelf aan zo niet gaat hij door om alle x'en te berekenen"
   ]
  },
  {
   "cell_type": "code",
   "execution_count": 7,
   "metadata": {},
   "outputs": [
    {
     "name": "stdout",
     "output_type": "stream",
     "text": [
      "8 1 6\n",
      "3 5 7\n",
      "4 9 2\n"
     ]
    }
   ],
   "source": [
    "\n",
    "def recursion():\n",
    "    global changes, index_master_x, index_master_y\n",
    "    for index, row in enumerate(matrix):\n",
    "        set_columns(row)\n",
    "\n",
    "    # every column\n",
    "    for i in range(0, 3):\n",
    "        set_columns(matrix[:, i])\n",
    "\n",
    "    diagonaal1 = [matrix[0][0], matrix[1][1], matrix[2][2]]\n",
    "    set_columns(diagonaal1)\n",
    "\n",
    "    diagonaal2 = [matrix[0][2], matrix[1][1], matrix[2][0]]\n",
    "    set_columns(diagonaal2)\n",
    "    if changes:\n",
    "        changes = False\n",
    "        recursion()\n",
    "    else:\n",
    "        calculate_rest()\n",
    "\n",
    "\n",
    "recursion()"
   ]
  },
  {
   "cell_type": "code",
   "execution_count": null,
   "metadata": {},
   "outputs": [],
   "source": []
  }
 ],
 "metadata": {
  "kernelspec": {
   "display_name": "Python 3",
   "language": "python",
   "name": "python3"
  },
  "language_info": {
   "codemirror_mode": {
    "name": "ipython",
    "version": 3
   },
   "file_extension": ".py",
   "mimetype": "text/x-python",
   "name": "python",
   "nbconvert_exporter": "python",
   "pygments_lexer": "ipython3",
   "version": "3.7.3"
  }
 },
 "nbformat": 4,
 "nbformat_minor": 2
}
