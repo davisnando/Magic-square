{
 "cells": [
  {
   "cell_type": "markdown",
   "metadata": {},
   "source": [
    "De code die hieronder staan import numpy en time\n",
    "Hij maakt daarna een matrix van 3x3 aan en vult de variables in die hij al in de matrix heeft staan"
   ]
  },
  {
   "cell_type": "code",
   "execution_count": 1,
   "metadata": {},
   "outputs": [],
   "source": [
    "import numpy\n",
    "import time\n",
    "\n",
    "size = (3,3)\n",
    "\n",
    "matrix = numpy.zeros(shape=size)\n",
    "\n",
    "matrix[0][0] = 2\n",
    "matrix[2][2] = 8 \n"
   ]
  },
  {
   "cell_type": "markdown",
   "metadata": {},
   "source": [
    "Hieronder staan wat functies wat de algoritme gebruikt.\n",
    "winner functie deze functie laat de matrix zien als hij klaar is\n",
    "check_matrix functie deze functie controleerd of de matrix een magic square is zoja geeft hij true terug zo niet false\n",
    "check functie deze functie controleerd of hij de punt in de matrix kan veranderen dit heeft hij nodig zodat hij niet de al ingevulde getallen overschrijft"
   ]
  },
  {
   "cell_type": "code",
   "execution_count": 2,
   "metadata": {},
   "outputs": [],
   "source": [
    "def winner(matrix):\n",
    "    print(\"==================\")\n",
    "    print(matrix)\n",
    "    print(\"Success!!\")\n",
    "\n",
    "def check_matrix(matrix):\n",
    "    for row in matrix:\n",
    "        if sum(row) != 15:\n",
    "            return False\n",
    "    for i in range(0, 3):\n",
    "        col = matrix[:, i]\n",
    "        if sum(col) != 15:\n",
    "            return False\n",
    "    if matrix[0][0] + matrix[1][1] + matrix[2][2] != 15:\n",
    "        return False\n",
    "    if matrix[0][2] + matrix[1][1] + matrix[2][0] != 15:\n",
    "        return False\n",
    "    if len(numpy.unique(matrix)) != size[0] * size[1]:\n",
    "        return False\n",
    "    return True\n",
    "\n",
    "def check(x, y):\n",
    "    for item in dont_handle:\n",
    "        if item == [y, x]:\n",
    "            return True\n",
    "    return False"
   ]
  },
  {
   "cell_type": "markdown",
   "metadata": {},
   "source": [
    "De code hieronder maakt wat indexes aan om de algoritme wat makkelijker te maken. Zo vind hij de punten waar al een ingevuld getal staat en welke index de laatste index is in de matrix. Ook zet hij de matrixes in een lijst zodat we makkelijk kunnen zien welke volgorde we aanhouden om 1 bij toe te voegen"
   ]
  },
  {
   "cell_type": "code",
   "execution_count": 3,
   "metadata": {},
   "outputs": [],
   "source": [
    "\n",
    "indexes = []\n",
    "last_to_check = []\n",
    "indexes_cord = {}\n",
    "dont_handle = []\n",
    "\n",
    "for i in range(0, size[0]):\n",
    "    for j in range(0, size[1]):\n",
    "        indexes.append([i, j])\n",
    "        indexes_cord[f\"{[i,j]}\"] = len(indexes) - 1\n",
    "        if matrix[i][j] != 0:\n",
    "            dont_handle.append([i,j])\n",
    "        \n",
    "        else:\n",
    "            last_to_check = [i, j]\n"
   ]
  },
  {
   "cell_type": "markdown",
   "metadata": {},
   "source": [
    "Hieronder staat de algoritme die hij gebruikt om de magic square te berekenen. Deze algoritme probeert elke mogelijkheid tot hij de mogelijkheid tegen komt wat een juiste magic square is. Hij voert op de laatste index steeds 1 bij tot hij de 9 bereikt en dan voegt hij 1 bij de vorige index tot die 9 bereikt en dan voegt hij bij zijn vorige index 1 bij etc. Elke keer als hij alles heeft toegevoegd controleerd hij of het een magic square is zoja voert hij de winner functie uit en stopt hij de loop"
   ]
  },
  {
   "cell_type": "code",
   "execution_count": 4,
   "metadata": {},
   "outputs": [
    {
     "name": "stdout",
     "output_type": "stream",
     "text": [
      "==================\n",
      "[[2. 7. 6.]\n",
      " [9. 5. 1.]\n",
      " [4. 3. 8.]]\n",
      "Success!!\n"
     ]
    }
   ],
   "source": [
    "busy = True\n",
    "while busy:\n",
    "    for y in range(0, size[0]):\n",
    "        for x in range(0, size[1]):\n",
    "            if check(x, y):\n",
    "                continue\n",
    "            index = indexes_cord[f\"{[y,x]}\"]\n",
    "            if matrix[y][x] == 10:\n",
    "                index = index - 1\n",
    "                new_i = indexes[index]\n",
    "                while check(new_i[1], new_i[0]):\n",
    "                    index = index - 1\n",
    "                    new_i = indexes[index]\n",
    "                matrix[new_i[0]][new_i[1]] += 1\n",
    "                matrix[y][x] = 1\n",
    "            elif [y, x] == last_to_check:\n",
    "                matrix[y][x] += 1\n",
    "            if check_matrix(matrix):\n",
    "                winner(matrix)\n",
    "                busy = False"
   ]
  },
  {
   "cell_type": "code",
   "execution_count": null,
   "metadata": {},
   "outputs": [],
   "source": []
  }
 ],
 "metadata": {
  "kernelspec": {
   "display_name": "Python 3",
   "language": "python",
   "name": "python3"
  },
  "language_info": {
   "codemirror_mode": {
    "name": "ipython",
    "version": 3
   },
   "file_extension": ".py",
   "mimetype": "text/x-python",
   "name": "python",
   "nbconvert_exporter": "python",
   "pygments_lexer": "ipython3",
   "version": "3.7.3"
  }
 },
 "nbformat": 4,
 "nbformat_minor": 2
}
